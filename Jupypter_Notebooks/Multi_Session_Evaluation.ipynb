{
 "cells": [
  {
   "cell_type": "code",
   "execution_count": 12,
   "id": "d8d264e1",
   "metadata": {},
   "outputs": [
    {
     "name": "stderr",
     "output_type": "stream",
     "text": [
      " 50%|███████████████████                   | 550M/1.10G [01:00<00:43, 12.7MB/s]"
     ]
    }
   ],
   "source": [
    "import pandas as pd\n",
    "import numpy as np\n",
    "import matplotlib.pyplot as plt\n",
    "%matplotlib inline\n",
    "import sys\n",
    "sys.path.append('../')\n",
    "from neuroIDBench.datasets.cogBciFlanker import COGBCIFLANKER\n",
    "from neuroIDBench.preprocessing.erp import ERP\n",
    "from neuroIDBench.featureExtraction.features import AutoRegressive\n",
    "from neuroIDBench.featureExtraction.features import PowerSpectralDensity\n",
    "from neuroIDBench.featureExtraction.twinNeural import TwinNeuralNetwork\n",
    "from neuroIDBench.datasets import utils\n",
    "from sklearn.pipeline import make_pipeline\n",
    "from sklearn.discriminant_analysis import LinearDiscriminantAnalysis as LDA\n",
    "from neuroIDBench.evaluations.multi_session_open_set import MultiSessionOpenSet\n",
    "from sklearn.linear_model import LogisticRegression\n",
    "from sklearn.naive_bayes import GaussianNB\n",
    "from sklearn.neighbors import KNeighborsClassifier\n",
    "from sklearn.svm import SVC                                                                                 \n",
    "from sklearn.ensemble import RandomForestClassifier\n",
    "from neuroIDBench.analysis.plotting import Plots \n",
    "import warnings\n",
    "warnings.filterwarnings('ignore')\n",
    "import os\n"
   ]
  },
  {
   "cell_type": "markdown",
   "id": "f61a4219",
   "metadata": {},
   "source": [
    "COGBIC Flanker and Lee2019 are ERP based datasets and were generated as part of the studyies [1] Hinss, M. F., Jahanpour, E. S., Somon, B., Pluchon, L., Dehais, F., & Roy, R. N. (2022). COG-BCI database: A multi-session and multi-task EEG cognitive dataset for passive brain-computer interfaces (Version 1) [Data set]. Zenodo. https://doi.org/10.5281/zenodo.6874129 and [2] Lee, M. H., Kwon, O. Y., Kim, Y. J., Kim, H. K., Lee, Y. E., Williamson, J., … Lee, S. W. (2019). EEG dataset and OpenBMI toolbox for three BCI paradigms: An investigation into BCI illiteracy. GigaScience, 8(5), 1–16. https://doi.org/10.1093/gigascience/giz002 \n",
    "\n",
    "| Name    | #Subj | #Chan | Sampling Rate | #Sessions |\n",
    "|---------|-------|-------|---------------|-----------|\n",
    "| COG-BCI |  29   | 32    |    512Hz      |    3      |\n",
    "\n",
    "**Description of COG-BCI Flanker Task**\n",
    "\n",
    "The dataset consists of recordings from 29 participants who completed three separate sessions, \n",
    "each conducted at an interval of 7 days. The participants are exposed to stimuli consisting \n",
    "of five arrows positioned at the center of a computer screen. Participants are instructed to \n",
    "respond to the central arrow while disregarding the surrounding (flanker) arrows. \n",
    "These flanker stimuli can aim in the same direction as the central target (congruent condition) \n",
    "or in the opposite direction (incongruent condition). \n",
    "Upon the conclusion of the trial, the participant is provided with feedback regarding \n",
    "the outcome of their performance, explicitly indicating whether their response was correct, \n",
    "incorrect, or a miss. A total of 120 trials are conducted, with each complete run having \n",
    "an approximate duration of 10 minutes. \n",
    "\n",
    "\n",
    "| Name    | #Subj | #Chan | Sampling Rate | #Sessions |\n",
    "|---------|-------|-------|---------------|-----------|\n",
    "| Lee2019 |  54   |  62   |    1000Hz      |    2     |\n",
    "\n",
    "**Description of ERP Task in Lee2019**\n",
    "\n",
    "The ERP speller interface followed a standard row-column layout with 36 symbols (A to Z, 1 to 9, and _), spaced evenly. Additional settings, including random-set presentation and face stimuli, were incorporated to enhance signal quality by minimizing adjacency distraction errors and presenting a familiar face image. Each sequence consisted of 12 stimulus flashes with a stimulus-time interval of 80 ms and an inter-stimulus interval (ISI) of 135 ms. A maximum of five sequences (60 flashes) were presented without prolonged inter-sequence intervals for each target character. After five sequences, 4.5 s were allotted for the participant to identify and locate the next target character. During training, participants copied-spelled a given sentence (\"NEURAL NETWORKS AND DEEP LEARNING\") without feedback. In the test session, participants copied-spelled \"PATTERN RECOGNITION MACHINE LEARNING,\" and real-time EEG data were analyzed based on training session classifier results. EEG data consisted of 1,980 and 2,160 trials for the training and test phases, respectively."
   ]
  },
  {
   "cell_type": "markdown",
   "id": "517cddf0",
   "metadata": {},
   "source": [
    "### Creating instances of dataset COGBCI-Flanker and ERP with default parameters\n",
    "\n",
    "Following are the default parameters of datasets and paradigm ERP:</br></br>\n",
    "    <i>Number of Subjects=29</i></br>\n",
    "    <i>Sample_duration=1 seconds (-200,800)</i></br>\n",
    "    <i>Baseline_Correction=True</i>"
   ]
  },
  {
   "cell_type": "code",
   "execution_count": 4,
   "id": "4cb9f815",
   "metadata": {},
   "outputs": [],
   "source": [
    "dataset1=COGBCIFLANKER()\n",
    "paradigm=ERP()"
   ]
  },
  {
   "cell_type": "markdown",
   "id": "753fdbd5",
   "metadata": {},
   "source": [
    "### Intializing pipelines for 4 shallow Classifiers i.e., LDA, LR, KNN and RF with AR Parameters and PSD Features with default Parameters\n",
    "\n",
    "Following are the default parameters of AR coeffecients and Twin Neural Networks:</br></br>\n",
    "    <i>AR Order=1</i></br>\n",
    "    <i>Batch_Size=192</i></br>\n",
    "    <i>Epochs=100</i></br>"
   ]
  },
  {
   "cell_type": "code",
   "execution_count": 6,
   "id": "8ffaf473",
   "metadata": {},
   "outputs": [],
   "source": [
    "pipeline={}\n",
    "pipeline['AR+PSD+LDA']=make_pipeline(AutoRegressive(), PowerSpectralDensity(), LDA())\n",
    "pipeline['AR+PSD+LR']=make_pipeline(AutoRegressive(), PowerSpectralDensity(), LogisticRegression())\n",
    "pipeline['AR+PSD+KNN']=make_pipeline(AutoRegressive(), PowerSpectralDensity(), KNeighborsClassifier())\n",
    "pipeline['AR+PSD+RF']=make_pipeline(AutoRegressive(), PowerSpectralDensity(), RandomForestClassifier())\n",
    "pipeline['TNN']=make_pipeline(TwinNeuralNetwork())"
   ]
  },
  {
   "cell_type": "markdown",
   "id": "b45826eb",
   "metadata": {},
   "source": [
    "### Creating Authentication pipeline for multi session evaluation under unkown attacker Scenario"
   ]
  },
  {
   "cell_type": "code",
   "execution_count": 10,
   "id": "e77742e8",
   "metadata": {},
   "outputs": [],
   "source": [
    "evaluation=MultiSessionOpenSet(paradigm=paradigm, datasets=dataset1, overwrite=False)"
   ]
  },
  {
   "cell_type": "markdown",
   "id": "1304d3af",
   "metadata": {},
   "source": [
    "### Executing the Multi Session Authentication Pipeline"
   ]
  },
  {
   "cell_type": "code",
   "execution_count": null,
   "id": "0b0387db",
   "metadata": {},
   "outputs": [],
   "source": [
    "results=evaluation.process(pipeline)"
   ]
  },
  {
   "cell_type": "markdown",
   "id": "9a3e83fc",
   "metadata": {},
   "source": [
    "### Statistical Analysis of the performace of Multi Session Evalaution Across the two datasets\n",
    "\n",
    "Comparative Analysis of Average EER and FNMR at 1%, 0.1%, and 0.01% FMR thresholds across multi-session dataset. The evaluation encompasses single-session evaluation Scheme, with a focus on classifiers’ performance in the unknown attacker scenario."
   ]
  },
  {
   "cell_type": "code",
   "execution_count": null,
   "id": "5a3a533f",
   "metadata": {},
   "outputs": [],
   "source": [
    "multi_session_df=results.groupby(['eval Type','dataset','pipeline']).agg({\n",
    "                'eer': lambda x: f'{np.mean(x)*100:.3f} ± {np.std(x)*100:.3f}',\n",
    "                'frr_1_far': lambda x: f'{np.mean(x)*100:.3f}',\n",
    "                'frr_0.1_far': lambda x: f'{np.mean(x)*100:.3f}',\n",
    "                'frr_0.01_far': lambda x: f'{np.mean(x)*100:.3f}'    \n",
    "            }).reset_index()\n",
    "\n",
    "display(multi_session_df)"
   ]
  }
 ],
 "metadata": {
  "kernelspec": {
   "display_name": "master_thesis",
   "language": "python",
   "name": "python3"
  },
  "language_info": {
   "codemirror_mode": {
    "name": "ipython",
    "version": 3
   },
   "file_extension": ".py",
   "mimetype": "text/x-python",
   "name": "python",
   "nbconvert_exporter": "python",
   "pygments_lexer": "ipython3",
   "version": "3.9.15"
  }
 },
 "nbformat": 4,
 "nbformat_minor": 5
}
