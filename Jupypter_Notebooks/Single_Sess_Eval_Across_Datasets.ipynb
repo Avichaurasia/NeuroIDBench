{
 "cells": [
  {
   "cell_type": "code",
   "execution_count": 1,
   "id": "7dec4908",
   "metadata": {},
   "outputs": [],
   "source": [
    "import sys\n",
    "sys.path.append('../')\n",
    "import abc\n",
    "import logging\n",
    "import mne\n",
    "import numpy as np\n",
    "import pandas as pd\n",
    "from neuroIDBench.datasets.lee2019 import Lee2019\n",
    "from neuroIDBench.datasets.erpCoreN400 import ERPCOREN400\n",
    "from neuroIDBench.datasets.erpCoreP300 import ERPCORENP300\n",
    "from neuroIDBench.preprocessing.erp import ERP\n",
    "from neuroIDBench.featureExtraction.features import AutoRegressive\n",
    "from neuroIDBench.featureExtraction.features import PowerSpectralDensity\n",
    "from neuroIDBench.featureExtraction.twinNeural import TwinNeuralNetwork\n",
    "from neuroIDBench.datasets import utils\n",
    "from sklearn.pipeline import make_pipeline\n",
    "from sklearn.discriminant_analysis import LinearDiscriminantAnalysis as LDA\n",
    "from neuroIDBench.evaluations.single_session_open_set import SingleSessionOpenSet\n",
    "from sklearn.linear_model import LogisticRegression\n",
    "from sklearn.naive_bayes import GaussianNB\n",
    "from sklearn.neighbors import KNeighborsClassifier\n",
    "from sklearn.svm import SVC                                                                                 \n",
    "from sklearn.ensemble import RandomForestClassifier\n",
    "from neuroIDBench.analysis.plotting import Plots \n",
    "import os"
   ]
  },
  {
   "cell_type": "markdown",
   "id": "95360025",
   "metadata": {},
   "source": [
    "## Performing Single Session Evaluation for datasets ERPCOREN400 and ERPCORENP300"
   ]
  },
  {
   "cell_type": "markdown",
   "id": "47ba8597",
   "metadata": {},
   "source": [
    "ERPCOREN400 and ERPCORENP300 are ERP based datasets and were generated as part of the study [1] E. S. Kappenman, J. L. Farrens, W. Zhang, A. X. Stewart, S. J. Luck, Erp core: An open resource for human event-related potential research, NeuroImage 225 (2021) 117465. \n",
    "\n",
    "| Name      | #Subj | #Chan | #Trials/class | Trials length | Sampling Rate | #Sessions |\n",
    "|-----------|-------|-------|---------------|---------------|---------------|-----------|\n",
    "| ERP: N400 | 40    | 32    | 5 NT x 1 T    | 1s            | 1024Hz        | 1         |\n",
    "\n",
    "**Description of ERP Task in ERPCOREN400**\n",
    "\n",
    "A word pair judgment task \n",
    "was employed to elicit the N400 component in this task. Every experimental trial comprised a red prime \n",
    "word that was subsequently followed by a green target word. Participants were required \n",
    "to indicate whether the target word was semantically related or unrelated to the prime word.\n",
    "\n",
    "\n",
    "| Name      | #Subj | #Chan | #Trials/class | Trials length | Sampling Rate | #Sessions |\n",
    "|-----------|-------|-------|---------------|---------------|---------------|-----------|\n",
    "| ERP: P300 | 40    | 32    | 5 NT x 1 T    | 1s            | 1024Hz        | 1         |\n",
    "\n",
    "**Description of ERP Task in ERPCOREP300**\n",
    "\n",
    "This ERP task Utilized an active \n",
    "visual oddball task to evoke the P300 response. Randomly presented letters A, B, C, D, and E\n",
    "with equal probabilities (p = .2 for each letter). Designated one letter as the target \n",
    "for a block, and participants identified whether each stimulus was the target or a \n",
    "non-target. This approach maintained a constant target probability of .2, with the \n",
    "same physical stimulus serving as a target in some blocks and a non-target in others.."
   ]
  },
  {
   "cell_type": "markdown",
   "id": "ae519162",
   "metadata": {},
   "source": [
    "### Creating instances of datasets and ERP with default parameters\n",
    "\n",
    "Following are the default parameters of datasets and paradigm ERP:</br></br>\n",
    "    <i>Number of Subjects=40</i></br>\n",
    "    <i>Sample_duration=1 seconds (-200,800)</i></br>\n",
    "    <i>Baseline_Correction=True</i>"
   ]
  },
  {
   "cell_type": "code",
   "execution_count": 2,
   "id": "e8e2ec82",
   "metadata": {},
   "outputs": [],
   "source": [
    "dataset1=ERPCORENP300()\n",
    "dataset2=ERPCOREN400()\n",
    "paradigm=ERP()"
   ]
  },
  {
   "cell_type": "markdown",
   "id": "2bc958be",
   "metadata": {},
   "source": [
    "### Intializing pipelines for 4 shallow Classifiers i.e., LDA, LR, KNN and RF with AR Parameters and PSD Features with default Parameters\n",
    "\n",
    "Following are the default parameters of AR coeffecients:</br></br>\n",
    "    <i>AR Order=1</i></br>\n",
    "    \n",
    "\n",
    "\n"
   ]
  },
  {
   "cell_type": "code",
   "execution_count": 3,
   "id": "84486c0c",
   "metadata": {},
   "outputs": [],
   "source": [
    "pipeline={}\n",
    "pipeline['AR+PSD+LDA']=make_pipeline(AutoRegressive(), PowerSpectralDensity(), LDA())\n",
    "pipeline['AR+PSD+LR']=make_pipeline(AutoRegressive(), PowerSpectralDensity(), LogisticRegression())\n",
    "pipeline['AR+PSD+KNN']=make_pipeline(AutoRegressive(), PowerSpectralDensity(), KNeighborsClassifier())\n",
    "pipeline['AR+PSD+RF']=make_pipeline(AutoRegressive(), PowerSpectralDensity(), RandomForestClassifier())"
   ]
  },
  {
   "cell_type": "markdown",
   "id": "6c30c5b8",
   "metadata": {},
   "source": [
    "### Creating Authentication pipeline for single session evaluation under unkown attacker Scenario"
   ]
  },
  {
   "cell_type": "code",
   "execution_count": 4,
   "id": "fd159978",
   "metadata": {},
   "outputs": [],
   "source": [
    "evaluation=SingleSessionOpenSet(paradigm=paradigm, datasets=[dataset1, dataset2], overwrite=False)"
   ]
  },
  {
   "cell_type": "markdown",
   "id": "96093e53",
   "metadata": {},
   "source": [
    "### Executing the Single Session Authentication Pipeline"
   ]
  },
  {
   "cell_type": "code",
   "execution_count": null,
   "id": "c76a3041",
   "metadata": {},
   "outputs": [],
   "source": [
    "results=evaluation.process(pipeline)"
   ]
  },
  {
   "cell_type": "markdown",
   "id": "1c54e05f",
   "metadata": {},
   "source": [
    "### Statistical Analysis of the performace of Single Session Evalaution Across the two datasets\n",
    "\n",
    "Comparative Analysis of Average EER and FNMR at 1%, 0.1%, and 0.01% FMR thresholds across the two Datasets. The evaluation encompasses single-session evaluation Scheme, with a focus on classifiers’ performance in the unknown attacker scenario."
   ]
  },
  {
   "cell_type": "code",
   "execution_count": null,
   "id": "f495daf4",
   "metadata": {},
   "outputs": [],
   "source": [
    "single_session_df=results.groupby(['eval Type','dataset','pipeline']).agg({\n",
    "                'eer': lambda x: f'{np.mean(x)*100:.3f} ± {np.std(x)*100:.3f}',\n",
    "                'frr_1_far': lambda x: f'{np.mean(x)*100:.3f}',\n",
    "                'frr_0.1_far': lambda x: f'{np.mean(x)*100:.3f}',\n",
    "                'frr_0.01_far': lambda x: f'{np.mean(x)*100:.3f}'    \n",
    "            }).reset_index()\n",
    "\n",
    "display(single_session_df)"
   ]
  },
  {
   "cell_type": "code",
   "execution_count": null,
   "id": "31cbbd93",
   "metadata": {},
   "outputs": [],
   "source": []
  }
 ],
 "metadata": {
  "kernelspec": {
   "display_name": "Python [conda env:master_thesis]",
   "language": "python",
   "name": "conda-env-master_thesis-py"
  },
  "language_info": {
   "codemirror_mode": {
    "name": "ipython",
    "version": 3
   },
   "file_extension": ".py",
   "mimetype": "text/x-python",
   "name": "python",
   "nbconvert_exporter": "python",
   "pygments_lexer": "ipython3",
   "version": "3.9.15"
  }
 },
 "nbformat": 4,
 "nbformat_minor": 5
}
