{
 "cells": [
  {
   "cell_type": "code",
   "execution_count": 2,
   "id": "e7b2a9ac",
   "metadata": {},
   "outputs": [],
   "source": [
    "import sys\n",
    "sys.path.append('../')\n",
    "import abc\n",
    "import logging\n",
    "import mne\n",
    "import numpy as np\n",
    "import pandas as pd\n",
    "from neuroIDBench.datasets.erpCoreP300 import ERPCORENP300\n",
    "from neuroIDBench.datasets.cogBciFlanker import COGBCIFLANKER\n",
    "from neuroIDBench.preprocessing.erp import ERP\n",
    "from neuroIDBench.featureExtraction.features import AutoRegressive\n",
    "from neuroIDBench.featureExtraction.features import PowerSpectralDensity\n",
    "from neuroIDBench.featureExtraction.twinNeural import TwinNeuralNetwork\n",
    "from neuroIDBench.datasets import utils\n",
    "from sklearn.pipeline import make_pipeline\n",
    "from sklearn.discriminant_analysis import LinearDiscriminantAnalysis as LDA\n",
    "from neuroIDBench.evaluations.single_session_open_set import SingleSessionOpenSet\n",
    "from neuroIDBench.evaluations.multi_session_open_set import MultiSessionOpenSet\n",
    "from sklearn.linear_model import LogisticRegression\n",
    "from sklearn.naive_bayes import GaussianNB\n",
    "from sklearn.neighbors import KNeighborsClassifier\n",
    "from sklearn.svm import SVC                                                                                 \n",
    "from sklearn.ensemble import RandomForestClassifier\n",
    "from neuroIDBench.analysis.plotting import Plots \n",
    "import os"
   ]
  },
  {
   "cell_type": "markdown",
   "id": "a22f2e82",
   "metadata": {},
   "source": [
    "## Comparing the performace of single session and multi-session evaluations for datasets ERPCPREP300 and COG-BCI respectively."
   ]
  },
  {
   "cell_type": "markdown",
   "id": "16d224d6",
   "metadata": {},
   "source": [
    "### ERPCOREP300 \n",
    "\n",
    "ERPCORENP300 is ERP based dataset and was generated as part of the study [1] E. S. Kappenman, J. L. Farrens, W. Zhang, A. X. Stewart, S. J. Luck, Erp core: An open resource for human event-related potential research, NeuroImage 225 (2021) 117465. \n",
    "\n",
    "| Name      | #Subj | #Chan | #Trials/class | Trials length | Sampling Rate | #Sessions |\n",
    "|-----------|-------|-------|---------------|---------------|---------------|-----------|\n",
    "| ERP: P300 | 40    | 32    | 5 NT x 1 T    | 1s            | 1024Hz        | 1         |\n",
    "\n",
    "**Description of ERP Task in ERPCOREP300**\n",
    "\n",
    "This ERP task Utilized an active \n",
    "visual oddball task to evoke the P300 response. Randomly presented letters A, B, C, D, and E\n",
    "with equal probabilities (p = .2 for each letter). Designated one letter as the target \n",
    "for a block, and participants identified whether each stimulus was the target or a \n",
    "non-target. This approach maintained a constant target probability of .2, with the \n",
    "same physical stimulus serving as a target in some blocks and a non-target in others..\n",
    "\n",
    "### COG-BCI \n",
    "\n",
    "COGBIC Flanker is a multi-session dataset and were generated as part of the studyies [1] Hinss, M. F., Jahanpour, E. S., Somon, B., Pluchon, L., Dehais, F., & Roy, R. N. (2022). COG-BCI database: A multi-session and multi-task EEG cognitive dataset for passive brain-computer interfaces (Version 1) [Data set]. Zenodo. https://doi.org/10.5281/zenodo.6874129 and [2] Lee, M. H., Kwon, O. Y., Kim, Y. J., Kim, H. K., Lee, Y. E., Williamson, J., … Lee, S. W. (2019). EEG dataset and OpenBMI toolbox for three BCI paradigms: An investigation into BCI illiteracy. GigaScience, 8(5), 1–16. https://doi.org/10.1093/gigascience/giz002 \n",
    "\n",
    "| Name    | #Subj | #Chan | Sampling Rate | #Sessions |\n",
    "|---------|-------|-------|---------------|-----------|\n",
    "| COG-BCI |  29   | 32    |    512Hz      |    3      |\n",
    "\n",
    "**Description of COG-BCI Flanker Task**\n",
    "\n",
    "The dataset consists of recordings from 29 participants who completed three separate sessions, \n",
    "each conducted at an interval of 7 days. The participants are exposed to stimuli consisting \n",
    "of five arrows positioned at the center of a computer screen. Participants are instructed to \n",
    "respond to the central arrow while disregarding the surrounding (flanker) arrows. \n",
    "These flanker stimuli can aim in the same direction as the central target (congruent condition) \n",
    "or in the opposite direction (incongruent condition). \n",
    "Upon the conclusion of the trial, the participant is provided with feedback regarding \n",
    "the outcome of their performance, explicitly indicating whether their response was correct, \n",
    "incorrect, or a miss. A total of 120 trials are conducted, with each complete run having \n",
    "an approximate duration of 10 minutes. "
   ]
  },
  {
   "cell_type": "markdown",
   "id": "65962c43",
   "metadata": {},
   "source": [
    "### Creating instances of datasets and ERP with default parameters\n",
    "\n",
    "Following are the default parameters of dataset and paradigm ERP:</br></br>\n",
    "    <i>Number of Subjects=40</i></br>\n",
    "    <i>Sample_duration=1 seconds (-200,800)</i></br>\n",
    "    <i>Baseline_Correction=True</i>"
   ]
  },
  {
   "cell_type": "code",
   "execution_count": 3,
   "id": "baacf838",
   "metadata": {},
   "outputs": [],
   "source": [
    "dataset1=ERPCORENP300()\n",
    "dataset2=COGBCIFLANKER()\n",
    "paradigm=ERP()"
   ]
  },
  {
   "cell_type": "markdown",
   "id": "28498638",
   "metadata": {},
   "source": [
    "### Intializing pipelines for 4 shallow Classifiers i.e., LDA, LR, KNN and RF with AR Parameters and PSD Features with default Parameters\n",
    "\n",
    "Following are the default parameters of AR coeffecients and Twin Neural Networks:</br></br>\n",
    "    <i>AR Order=1</i></br>\n",
    "    <i>Batch_Size=192</i></br>\n",
    "    <i>Epochs=100</i></br>\n",
    "    "
   ]
  },
  {
   "cell_type": "code",
   "execution_count": 4,
   "id": "23845283",
   "metadata": {},
   "outputs": [],
   "source": [
    "pipeline={}\n",
    "pipeline['AR+PSD+LDA']=make_pipeline(AutoRegressive(), PowerSpectralDensity(), LDA())\n",
    "pipeline['AR+PSD+LR']=make_pipeline(AutoRegressive(), PowerSpectralDensity(), LogisticRegression())\n",
    "pipeline['AR+PSD+KNN']=make_pipeline(AutoRegressive(), PowerSpectralDensity(), KNeighborsClassifier())\n",
    "pipeline['AR+PSD+RF']=make_pipeline(AutoRegressive(), PowerSpectralDensity(), RandomForestClassifier())\n",
    "pipeline['TNN']=make_pipeline(TwinNeuralNetwork())"
   ]
  },
  {
   "cell_type": "markdown",
   "id": "9f49fea5",
   "metadata": {},
   "source": [
    "### Creating Authentication pipeline for Single session evaluation under unkown attacker Scenario"
   ]
  },
  {
   "cell_type": "code",
   "execution_count": 5,
   "id": "a70426d7",
   "metadata": {},
   "outputs": [],
   "source": [
    "single_evaluation=SingleSessionOpenSet(paradigm=paradigm, datasets=dataset1, overwrite=False)"
   ]
  },
  {
   "cell_type": "markdown",
   "id": "137ddc18",
   "metadata": {},
   "source": [
    "### Executing the Single Session Authentication Pipeline"
   ]
  },
  {
   "cell_type": "code",
   "execution_count": null,
   "id": "eb743617",
   "metadata": {},
   "outputs": [],
   "source": [
    "Single_Session_results=single_evaluation.process(pipeline)"
   ]
  },
  {
   "cell_type": "markdown",
   "id": "47effee8",
   "metadata": {},
   "source": [
    "### Creating Authentication pipeline for Multi session evaluation under unkown attacker Scenario"
   ]
  },
  {
   "cell_type": "code",
   "execution_count": null,
   "id": "2c99f0a3",
   "metadata": {},
   "outputs": [],
   "source": [
    "multi_evaluation=MultiSessionOpenSet(paradigm=paradigm, datasets=dataset2, overwrite=False)"
   ]
  },
  {
   "cell_type": "markdown",
   "id": "1a7dfa47",
   "metadata": {},
   "source": [
    "### Executing the Multi Session Authentication Pipeline"
   ]
  },
  {
   "cell_type": "code",
   "execution_count": null,
   "id": "f5d13ae8",
   "metadata": {},
   "outputs": [],
   "source": [
    "multi_session_results=multi_evaluation.process(pipeline)"
   ]
  },
  {
   "cell_type": "markdown",
   "id": "9c0da800",
   "metadata": {},
   "source": [
    "### Concentenating the results of single session and multi session results"
   ]
  },
  {
   "cell_type": "code",
   "execution_count": null,
   "id": "c89fef40",
   "metadata": {},
   "outputs": [],
   "source": [
    "# Concentenating the results of the two datasets\n",
    "results=pd.concat([Single_Session_results, multi_session_results], axis=0)"
   ]
  },
  {
   "cell_type": "markdown",
   "id": "44036177",
   "metadata": {},
   "source": [
    "### Statistical Analysis of the performace of Single and multi Session Evalaution Across the two datasets\n",
    "\n",
    "Comparative Analysis of Average EER and FNMR at 1%, 0.1%, and 0.01% FMR thresholds across two datasets. The evaluation encompasses both single-session evaluation and multi-session evaluation Scheme, with a focus on classifiers’ performance in the unknown attacker scenario."
   ]
  },
  {
   "cell_type": "code",
   "execution_count": null,
   "id": "718a4606",
   "metadata": {},
   "outputs": [],
   "source": [
    "results_df=results.groupby(['evaluation','eval Type','dataset','pipeline']).agg({\n",
    "                'eer': lambda x: f'{np.mean(x)*100:.3f} ± {np.std(x)*100:.3f}',\n",
    "                'frr_1_far': lambda x: f'{np.mean(x)*100:.3f}',\n",
    "                'frr_0.1_far': lambda x: f'{np.mean(x)*100:.3f}',\n",
    "                'frr_0.01_far': lambda x: f'{np.mean(x)*100:.3f}'    \n",
    "            }).reset_index()\n",
    "\n",
    "display(results_df)"
   ]
  },
  {
   "cell_type": "code",
   "execution_count": null,
   "id": "8796942e",
   "metadata": {},
   "outputs": [],
   "source": []
  }
 ],
 "metadata": {
  "kernelspec": {
   "display_name": "master_thesis",
   "language": "python",
   "name": "python3"
  },
  "language_info": {
   "codemirror_mode": {
    "name": "ipython",
    "version": 3
   },
   "file_extension": ".py",
   "mimetype": "text/x-python",
   "name": "python",
   "nbconvert_exporter": "python",
   "pygments_lexer": "ipython3",
   "version": "3.9.15"
  }
 },
 "nbformat": 4,
 "nbformat_minor": 5
}
